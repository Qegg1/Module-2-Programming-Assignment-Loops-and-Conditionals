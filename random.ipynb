{
 "cells": [
  {
   "cell_type": "code",
   "execution_count": null,
   "id": "8829ea59-ed59-4fab-acdb-e9487107b06c",
   "metadata": {},
   "outputs": [],
   "source": [
    "import random\n",
    "secret = random.randint(1,10)\n",
    "guess = 0\n",
    "tries = 0\n",
    "while not guess == secret:\n",
    "    guess = int(input(\"guess the number:\"))\n",
    "    tries+=1\n",
    "    if guess > secret:\n",
    "        print(\"too high\")\n",
    "        \n",
    "    elif guess < secret:\n",
    "        print(\"too low\")\n",
    "        #tries+=1\n",
    "print(\"success, you did it in\", tries, \"tries\")"
   ]
  }
 ],
 "metadata": {
  "kernelspec": {
   "display_name": "Python 3 (ipykernel)",
   "language": "python",
   "name": "python3"
  },
  "language_info": {
   "codemirror_mode": {
    "name": "ipython",
    "version": 3
   },
   "file_extension": ".py",
   "mimetype": "text/x-python",
   "name": "python",
   "nbconvert_exporter": "python",
   "pygments_lexer": "ipython3",
   "version": "3.12.4"
  }
 },
 "nbformat": 4,
 "nbformat_minor": 5
}
